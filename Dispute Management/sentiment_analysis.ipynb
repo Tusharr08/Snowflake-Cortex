{
 "metadata": {
  "kernelspec": {
   "display_name": "Streamlit Notebook",
   "name": "streamlit"
  }
 },
 "nbformat_minor": 5,
 "nbformat": 4,
 "cells": [
  {
   "cell_type": "code",
   "id": "3775908f-ca36-4846-8f38-5adca39217f2",
   "metadata": {
    "language": "python",
    "name": "cell1",
    "collapsed": false
   },
   "source": "# Import python packages\nimport pandas as pd\nimport numpy as np\nimport streamlit as st\nimport altair as alt\nfrom snowflake.cortex import Summarize\nfrom snowflake.snowpark.functions import col\n\n# We can also use Snowpark for our analyses!\nfrom snowflake.snowpark.context import get_active_session\nsession = get_active_session()\n",
   "execution_count": null,
   "outputs": []
  },
  {
   "cell_type": "code",
   "id": "8d50cbf4-0c8d-4950-86cb-114990437ac9",
   "metadata": {
    "language": "sql",
    "name": "cell2",
    "collapsed": false
   },
   "source": "-- Welcome to Snowflake Notebooks!\n-- Try out a SQL cell to generate some data.\nSELECT * FROM DISPUTE_ANALYSIS;",
   "execution_count": null,
   "outputs": []
  },
  {
   "cell_type": "code",
   "id": "c695373e-ac74-4b62-a1f1-08206cbd5c81",
   "metadata": {
    "language": "python",
    "name": "cell3",
    "collapsed": false
   },
   "source": "# Then, we can use the python name to turn cell2 into a Pandas dataframe\nmy_df = cell2.to_pandas()\n\n# Chart the data\nst.subheader(\"STATUS OF DISPUTE FOR EACH PRODUCT_TYPE WITH AMOUNT ❄️\")\nst.bar_chart(my_df, x='PRODUCT_TYPE', y='TRANSACTION_AMOUNT', color='STATUS')\n\n",
   "execution_count": null,
   "outputs": []
  },
  {
   "cell_type": "code",
   "id": "2c91f201-89fd-496a-8be1-6ab4d424f2c5",
   "metadata": {
    "language": "sql",
    "name": "cell4"
   },
   "outputs": [],
   "source": "CREATE OR REPLACE VIEW DISPUTE_SENTIMENT AS\nSELECT\n    *,\n    SNOWFLAKE.CORTEX.SENTIMENT(CUSTOMER_STATEMENT) AS SENTIMENT_RESULT\nFROM\n    DISPUTE_ANALYSIS\nWHERE STATUS='REJECTED';\n",
   "execution_count": null
  },
  {
   "cell_type": "code",
   "id": "7bf5b91c-c80b-4de1-a1d9-38cf689b9873",
   "metadata": {
    "language": "sql",
    "name": "cell5",
    "collapsed": false
   },
   "outputs": [],
   "source": "select * from dispute_sentiment where sentiment_result<-0.5;",
   "execution_count": null
  },
  {
   "cell_type": "code",
   "id": "e0822a11-1b0b-4753-bc9e-f53f6c8c820b",
   "metadata": {
    "language": "python",
    "name": "cell6",
    "collapsed": false
   },
   "outputs": [],
   "source": "df= cell5.to_pandas()\nresults_df=pd.DataFrame(df)\nst.header(\"Need Summary?\")\nselected_indices = st.selectbox(\"What summary do you want?\", results_df.index)\n\nselected_ted= results_df.loc[selected_indices]\nst.text(\"Selected Customer Review:\")\nst.dataframe(selected_ted)\n\ntalk_content= session.table(\"dispute_sentiment\").select('CUSTOMER_STATEMENT').filter(col('DISPUTE_ID')==selected_ted.DISPUTE_ID).collect()\ntext_to_summarize=talk_content[0].CUSTOMER_STATEMENT\ntext_summarise= Summarize(text_to_summarize)\n\nst.title(\"Summary\")\nst.markdown(text_summarise)",
   "execution_count": null
  }
 ]
}