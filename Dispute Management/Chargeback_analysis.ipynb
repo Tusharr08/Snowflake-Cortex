{
 "metadata": {
  "kernelspec": {
   "display_name": "Streamlit Notebook",
   "name": "streamlit"
  }
 },
 "nbformat_minor": 5,
 "nbformat": 4,
 "cells": [
  {
   "cell_type": "code",
   "id": "3775908f-ca36-4846-8f38-5adca39217f2",
   "metadata": {
    "language": "python",
    "name": "cell1",
    "collapsed": false
   },
   "source": "# Import python packages\nimport pandas as pd\nimport numpy as np\nimport streamlit as st\nimport altair as alt\nfrom snowflake.cortex import Summarize\nfrom snowflake.snowpark.functions import col\n",
   "execution_count": null,
   "outputs": []
  },
  {
   "cell_type": "code",
   "id": "7f19b48b-07f9-4faf-ae68-ce264f41dbf9",
   "metadata": {
    "language": "python",
    "name": "cell4",
    "collapsed": false
   },
   "outputs": [],
   "source": "# We can also use Snowpark for our analyses!\nfrom snowflake.snowpark.context import get_active_session\nsession = get_active_session()",
   "execution_count": null
  },
  {
   "cell_type": "code",
   "id": "8d50cbf4-0c8d-4950-86cb-114990437ac9",
   "metadata": {
    "language": "sql",
    "name": "cell2",
    "collapsed": false
   },
   "source": "-- Welcome to Snowflake Notebooks!\n-- Try out a SQL cell to generate some data.\nSELECT * FROM CORTEX_POC.DISPUTE.CHARGEBACKS;",
   "execution_count": null,
   "outputs": []
  },
  {
   "cell_type": "markdown",
   "id": "42c49b6f-2dff-4a97-aa4d-00530ed57be7",
   "metadata": {
    "name": "cell7",
    "collapsed": false
   },
   "source": "# Exploratory Data Analysis (EDA)\nMachine learning models thrive on clean and well-organized data. To ensure our models perform at their best, we'll investigate our dataset to address any missing values and visualize the distributions of each column."
  },
  {
   "cell_type": "code",
   "id": "c695373e-ac74-4b62-a1f1-08206cbd5c81",
   "metadata": {
    "language": "python",
    "name": "cell3",
    "collapsed": false
   },
   "source": "# Then, we can use the python name to turn cell2 into a Pandas dataframe\ncgbk_df = cell2.to_pandas()\n\n# Chart the data\nst.subheader(\"Amount charged on each CHARGEBACK date 🥇\")\nst.bar_chart(cgbk_df, x='CHARGEBACK_DATE', y='AMOUNT')\n",
   "execution_count": null,
   "outputs": []
  },
  {
   "cell_type": "markdown",
   "id": "9befb22a-c796-4572-a6fb-69607a325d84",
   "metadata": {
    "name": "cell6",
    "collapsed": false
   },
   "source": "# Basic Summary Statistics "
  },
  {
   "cell_type": "code",
   "id": "4439c183-1cd7-4b0a-ae04-02a9bc232ccc",
   "metadata": {
    "language": "python",
    "name": "cell5",
    "collapsed": false
   },
   "outputs": [],
   "source": "cgbk_df.describe()",
   "execution_count": null
  },
  {
   "cell_type": "markdown",
   "id": "05f54120-cdc5-4594-90fe-3c3201aae22a",
   "metadata": {
    "name": "cell9",
    "collapsed": false
   },
   "source": ""
  },
  {
   "cell_type": "markdown",
   "id": "8ac1b073-dbeb-40ec-848d-211b441cf9ae",
   "metadata": {
    "name": "cell10",
    "collapsed": false
   },
   "source": "# Checking nulls with Pandas"
  },
  {
   "cell_type": "code",
   "id": "f91f8f82-0b89-4cff-b68b-d64bb2d019cb",
   "metadata": {
    "language": "python",
    "name": "cell8",
    "collapsed": false
   },
   "outputs": [],
   "source": "cgbk_df.isnull().sum()",
   "execution_count": null
  },
  {
   "cell_type": "markdown",
   "id": "a61e2650-baa4-4969-bd4e-ea3e3f814ce2",
   "metadata": {
    "name": "cell13",
    "collapsed": false
   },
   "source": "Let's aggregate chargebacks by week or month to look for trends"
  },
  {
   "cell_type": "code",
   "id": "47385ea4-4775-4b94-afa0-7fb661d25e9c",
   "metadata": {
    "language": "sql",
    "name": "cell12",
    "collapsed": false
   },
   "outputs": [],
   "source": "CREATE OR REPLACE VIEW chargeback_trends AS\nSELECT\n    TO_CHAR(CHARGEBACK_DATE, 'YYYY-MM') AS month_year,\n    Chargeback_Reason,\n    COUNT(*) AS chargeback_count\nFROM CHARGEBACKS\nGROUP BY 1, 2\nORDER BY 1;",
   "execution_count": null
  },
  {
   "cell_type": "code",
   "id": "03e7a622-3783-4c58-896e-8f9a827c3bc7",
   "metadata": {
    "language": "sql",
    "name": "cell11",
    "collapsed": false
   },
   "outputs": [],
   "source": "SELECT * FROM CHARGEBACK_TRENDS;",
   "execution_count": null
  },
  {
   "cell_type": "code",
   "id": "b7c07ca3-76e6-4f66-bdc3-628fbb3ae916",
   "metadata": {
    "language": "python",
    "name": "cell14",
    "collapsed": false
   },
   "outputs": [],
   "source": "weekly_trends_df = cell11.to_pandas()\n\n# Chart the data\nst.subheader(\"Monthly Trends :calendar:\")\nst.bar_chart(weekly_trends_df, x='MONTH_YEAR', y='CHARGEBACK_COUNT', color='CHARGEBACK_REASON')",
   "execution_count": null
  },
  {
   "cell_type": "markdown",
   "id": "ca245723-f4dc-48ea-aab4-aeb498f336bf",
   "metadata": {
    "name": "cell17",
    "collapsed": false
   },
   "source": "# Feature Engineering\nPreprocess the data to include useful features and label encoding for the Outcome. You need to ensure that all necessary attributes for prediction are available:"
  },
  {
   "cell_type": "code",
   "id": "14196f83-4e56-493b-a1e1-d0c1c89391fc",
   "metadata": {
    "language": "sql",
    "name": "cell15",
    "collapsed": false
   },
   "outputs": [],
   "source": "CREATE OR REPLACE VIEW chargeback_processed AS\nSELECT\n    Merchant_Category,\n    MEMBER_DOCUMENTATION,\n    Chargeback_Reason,\n    -- Add any additional relevant features\n    resolution_time,\n    CASE \n        WHEN Outcome = 'resolved in favor of member' THEN 'customer'\n        WHEN Outcome = 'resolved in favor of merchant' THEN 'merchant'\n        ELSE NULL\n    END AS outcome_label\nFROM chargebacks;  -- Exclude rows without an outcome",
   "execution_count": null
  },
  {
   "cell_type": "code",
   "id": "2e1b80bc-a22c-44a0-ae9c-924346f656db",
   "metadata": {
    "language": "sql",
    "name": "cell16",
    "collapsed": false
   },
   "outputs": [],
   "source": "SELECT * FROM CHARGEBACK_PROCESSED;",
   "execution_count": null
  },
  {
   "cell_type": "markdown",
   "id": "53e20b8d-8684-4d01-a6cc-4066fd08197c",
   "metadata": {
    "name": "cell19",
    "collapsed": false
   },
   "source": "Now that we have our view prepared, we can create our binary classification model."
  },
  {
   "cell_type": "code",
   "id": "e4208123-d777-4467-954f-34fa7ec9b20f",
   "metadata": {
    "language": "sql",
    "name": "cell20",
    "collapsed": false
   },
   "outputs": [],
   "source": "CREATE OR REPLACE SNOWFLAKE.ML.CLASSIFICATION dispute_binary(\n    INPUT_DATA => SYSTEM$REFERENCE('view', 'CHARGEBACK_PROCESSED'),\n    TARGET_COLNAME => 'outcome_label'\n);",
   "execution_count": null
  },
  {
   "cell_type": "code",
   "id": "cb916f30-8a19-4251-8ba9-2c58ab1e5582",
   "metadata": {
    "language": "sql",
    "name": "cell18",
    "collapsed": false
   },
   "outputs": [],
   "source": "create or replace view chargeback_predicted as \nSELECT\n    Merchant_Category,\n    MEMBER_DOCUMENTATION,\n    Chargeback_Reason,\n    -- Add any additional relevant features\n    resolution_time\nFROM chargeback_prediction;",
   "execution_count": null
  },
  {
   "cell_type": "code",
   "id": "c2cc6544-af87-496c-a765-9026de29b27b",
   "metadata": {
    "language": "sql",
    "name": "cell21"
   },
   "outputs": [],
   "source": "select * from chargeback_predicted;",
   "execution_count": null
  },
  {
   "cell_type": "code",
   "id": "e8b32f28-8054-448a-b5ba-937aa9e259ee",
   "metadata": {
    "language": "sql",
    "name": "cell22",
    "collapsed": false
   },
   "outputs": [],
   "source": "SELECT dispute_binary!PREDICT(\n    INPUT_DATA => {*})\n    as predictions from chargeback_predicted;",
   "execution_count": null
  },
  {
   "cell_type": "code",
   "id": "a7fbec06-2be7-4936-8a05-c51f57a9161d",
   "metadata": {
    "language": "sql",
    "name": "cell23",
    "collapsed": false
   },
   "outputs": [],
   "source": "create or replace table chargeback_predicted_data as SELECT *, dispute_binary!PREDICT(INPUT_DATA => {*}) as predictions from chargeback_predicted;",
   "execution_count": null
  },
  {
   "cell_type": "code",
   "id": "fa3ac9ff-a7c1-4b96-8c71-6e7eea18bbe2",
   "metadata": {
    "language": "sql",
    "name": "cell24"
   },
   "outputs": [],
   "source": "SELECT * FROM CHARGEBACK_PREDICTED_DATA;",
   "execution_count": null
  },
  {
   "cell_type": "code",
   "id": "c13529ec-5c4e-4622-9c5a-a1be05bbd5cc",
   "metadata": {
    "language": "sql",
    "name": "cell25",
    "collapsed": false
   },
   "outputs": [],
   "source": "CREATE OR REPLACE VIEW CHARGEBACK_PREDICTED_OUTCOME AS\nSELECT \nMERCHANT_CATEGORY,\nMEMBER_DOCUMENTATION,\nCHARGEBACK_REASON,\nRESOLUTION_TIME,\n    predictions:class AS LIABLE_FOR_DISPUTE,\n    ROUND(predictions['probability']['customer'],4) AS customer_probability,\n    ROUND(predictions['probability']['merchant'],4) AS merchant_probability\nFROM CHARGEBACK_PREDICTED_DATA",
   "execution_count": null
  },
  {
   "cell_type": "code",
   "id": "63900b8e-66e3-4642-a946-79689a83b602",
   "metadata": {
    "language": "sql",
    "name": "cell26",
    "collapsed": false
   },
   "outputs": [],
   "source": "SELECT * FROM CHARGEBACK_PREDICTED_OUTCOME LIMIT 10;",
   "execution_count": null
  },
  {
   "cell_type": "code",
   "id": "b7f66ece-0fdc-4b15-b72c-d2b9b5dc3475",
   "metadata": {
    "language": "python",
    "name": "cell27",
    "collapsed": false
   },
   "outputs": [],
   "source": "\ndf = cell26.to_pandas()\n# Streamlit application\nst.title(\"Chargeback Predictive Analysis Visualizations\")\n# Use Case 1: Distribution of Dispute Liability\nst.header(\"1: Distribution of Dispute Liability\")\nliability_counts = df['LIABLE_FOR_DISPUTE'].value_counts().reset_index()\nliability_counts.columns = ['Liable For Dispute', 'Count']\n# Create a vega-lite chart for the pie chart\nliability_pie_chart = {\n    \"data\": {\n        \"values\": liability_counts.to_dict(orient='records')\n    },\n    \"mark\": \"arc\",\n    \"encoding\": {\n        \"theta\": {\"field\": \"Count\", \"type\": \"quantitative\"},\n        \"color\": {\"field\": \"Liable For Dispute\", \"type\": \"nominal\", \"scale\": {\"scheme\": \"category10\"}}\n    }\n}\nst.vega_lite_chart(liability_pie_chart, use_container_width=True, theme=\"streamlit\")\n\nst.header(\"2: Resolution Time by Merchant Category\")\n# Create a box plot with Vega-Lite\nbox_plot = {\n    \"data\": {\n        \"values\": df\n    },\n    \"mark\": \"boxplot\",\n    \"encoding\": {\n        \"x\": {\"field\": \"MERCHANT_CATEGORY\", \"type\": \"nominal\"},\n        \"y\": {\"field\": \"RESOLUTION_TIME\", \"type\": \"quantitative\"},\n        \"color\": {\"field\": \"MERCHANT_CATEGORY\", \"type\": \"nominal\"}\n    },\n    \"title\": \"Box Plot of Resolution Time by Merchant Category\"\n}\n# Display the box plot\nst.vega_lite_chart(box_plot,use_container_width=True)\n\n\nst.header(\"3: Outcomes by Chargeback Reason over Resolution Time\")\n# Create a grouped bar chart with Vega-Lite\ngrouped_bar_chart = {\n    \"data\": {\n        \"values\": df\n    },\n    \"mark\": \"bar\",\n    \"encoding\": {\n        \"x\": {\"field\": \"CHARGEBACK_REASON\", \"type\": \"nominal\", \"axis\": {\"labelAngle\": -45}},\n        \"y\": {\"field\": \"RESOLUTION_TIME\", \"type\": \"quantitative\", \"axis\": {\"title\": \"RESOLUTION TIME\"}},\n        \"color\": {\"field\": \"LIABLE_FOR_DISPUTE\", \"type\": \"nominal\",\"title\":\"Liable for Dispute\"},\n        \"opacity\": {\"condition\": {\"test\": \"datum.Outcome == 'CUSTOMER_PROBABILITY'\", \"value\": 1}, \"value\": 0.7}\n    }\n}\n# Display the grouped bar chart\nst.vega_lite_chart(grouped_bar_chart, use_container_width=True)\n\ndf = pd.DataFrame(df)\n# Aggregate the data to count outcomes by MEMBER_DOCUMENTATION\noutcomes_count = df.groupby(['MEMBER_DOCUMENTATION', 'LIABLE_FOR_DISPUTE']).size().reset_index(name='Count')\n# Create a stacked bar chart with Vega-Lite\nstacked_bar_chart = {\n    \"data\": {\n        \"values\": outcomes_count.to_dict(orient='records')\n    },\n    \"mark\": \"bar\",\n    \"encoding\": {\n        \"x\": {\"field\": \"MEMBER_DOCUMENTATION\", \"type\": \"nominal\", \"axis\": {\"labelAngle\": -45}},\n        \"y\": {\"field\": \"Count\", \"type\": \"quantitative\"},\n        \"color\": {\"field\": \"LIABLE_FOR_DISPUTE\", \"type\": \"nominal\", \"scale\": {\"scheme\": \"category10\"}}\n    },\n    \"title\": \"Proportion of Outcomes Based on Member Documentation\"\n}\n# Streamlit application\nst.title(\"Documentation Impact on Chargeback Outcomes\")\n# Display the stacked bar chart\nst.vega_lite_chart(stacked_bar_chart,use_container_width=True)",
   "execution_count": null
  },
  {
   "cell_type": "code",
   "id": "16353141-a4c2-46e2-b237-791ebecbd481",
   "metadata": {
    "language": "sql",
    "name": "cell28"
   },
   "outputs": [],
   "source": "CALL dispute_binary!SHOW_EVALUATION_METRICS();\nCALL dispute_binary!SHOW_GLOBAL_EVALUATION_METRICS();\nCALL dispute_binary!SHOW_CONFUSION_MATRIX();\nCALL dispute_binary!SHOW_FEATURE_IMPORTANCE();",
   "execution_count": null
  },
  {
   "cell_type": "code",
   "id": "307207c2-9058-4763-923a-268faf9e61aa",
   "metadata": {
    "language": "sql",
    "name": "prd_without_time",
    "collapsed": false
   },
   "outputs": [],
   "source": "CREATE OR REPLACE VIEW chargeback_processed2 AS\nSELECT\n    Merchant_Category,\n    MEMBER_DOCUMENTATION,\n    Chargeback_Reason,\n    CASE \n        WHEN Outcome = 'resolved in favor of member' THEN 'customer'\n        WHEN Outcome = 'resolved in favor of merchant' THEN 'merchant'\n        ELSE NULL\n    END AS outcome_label\nFROM chargebacks;",
   "execution_count": null
  },
  {
   "cell_type": "code",
   "id": "92c374f2-a324-454e-8f1f-08884ffbf5cc",
   "metadata": {
    "language": "sql",
    "name": "cell30",
    "collapsed": false
   },
   "outputs": [],
   "source": "CREATE OR REPLACE SNOWFLAKE.ML.CLASSIFICATION dispute_binary2(\n    INPUT_DATA => SYSTEM$REFERENCE('view', 'CHARGEBACK_PROCESSED2'),\n    TARGET_COLNAME => 'outcome_label'\n);",
   "execution_count": null
  },
  {
   "cell_type": "code",
   "id": "8d06ff31-1552-48f9-a35f-6fe3085a6be5",
   "metadata": {
    "language": "sql",
    "name": "cell31",
    "collapsed": false
   },
   "outputs": [],
   "source": "create or replace view chargeback_predicted2 as \nSELECT\n    Merchant_Category,\n    MEMBER_DOCUMENTATION,\n    Chargeback_Reason\nFROM chargeback_prediction;",
   "execution_count": null
  },
  {
   "cell_type": "code",
   "id": "5ef0ce50-b75e-420e-b3ca-4446aa03ee49",
   "metadata": {
    "language": "sql",
    "name": "cell32",
    "collapsed": false
   },
   "outputs": [],
   "source": "SELECT dispute_binary2!PREDICT(\n    INPUT_DATA => {*})\n    as predictions from chargeback_predicted2;",
   "execution_count": null
  },
  {
   "cell_type": "code",
   "id": "931454f0-1c13-4a5d-8246-1119080d54b0",
   "metadata": {
    "language": "sql",
    "name": "cell33",
    "collapsed": false
   },
   "outputs": [],
   "source": "create or replace table chargeback_predicted_data2 as SELECT *, dispute_binary2!PREDICT(INPUT_DATA => {*}) as predictions from chargeback_predicted2;",
   "execution_count": null
  },
  {
   "cell_type": "code",
   "id": "db24ddfc-114f-4300-a7c4-223fdbfec6bc",
   "metadata": {
    "language": "sql",
    "name": "cell34",
    "collapsed": false
   },
   "outputs": [],
   "source": "CREATE OR REPLACE VIEW CHARGEBACK_PREDICTED_OUTCOME2 AS\nSELECT \nMERCHANT_CATEGORY,\nMEMBER_DOCUMENTATION,\nCHARGEBACK_REASON,\n    predictions:class AS LIABLE_FOR_DISPUTE,\n    ROUND(predictions['probability']['customer'],4) AS customer_probability,\n    ROUND(predictions['probability']['merchant'],4) AS merchant_probability\nFROM CHARGEBACK_PREDICTED_DATA2",
   "execution_count": null
  },
  {
   "cell_type": "code",
   "id": "f2e2a3c1-004f-42c5-bd80-3e413045f047",
   "metadata": {
    "language": "sql",
    "name": "cell36"
   },
   "outputs": [],
   "source": "SELECT * FROM CHARGEBACK_PREDICTED_OUTCOME2;",
   "execution_count": null
  },
  {
   "cell_type": "code",
   "id": "36af967a-85a6-4adb-baaf-dfc6fb4af44e",
   "metadata": {
    "language": "python",
    "name": "cell35",
    "collapsed": false
   },
   "outputs": [],
   "source": "\ndf = cell36.to_pandas()\n# Streamlit application\nst.title(\"Chargeback Predictive Analysis Visualizations\")\n# Use Case 1: Distribution of Dispute Liability\nst.header(\"1: Distribution of Dispute Liability\")\nliability_counts = df['LIABLE_FOR_DISPUTE'].value_counts().reset_index()\nliability_counts.columns = ['Liable For Dispute', 'Count']\n# Create a vega-lite chart for the pie chart\nliability_pie_chart = {\n    \"data\": {\n        \"values\": liability_counts.to_dict(orient='records')\n    },\n    \"mark\": \"arc\",\n    \"encoding\": {\n        \"theta\": {\"field\": \"Count\", \"type\": \"quantitative\"},\n        \"color\": {\"field\": \"Liable For Dispute\", \"type\": \"nominal\", \"scale\": {\"scheme\": \"category10\"}}\n    }\n}\nst.vega_lite_chart(liability_pie_chart, use_container_width=True, theme=\"streamlit\")\n\n\ndf = pd.DataFrame(df)\n# Aggregate the data to count outcomes by MEMBER_DOCUMENTATION\noutcomes_count = df.groupby(['MEMBER_DOCUMENTATION', 'LIABLE_FOR_DISPUTE']).size().reset_index(name='Count')\n# Create a stacked bar chart with Vega-Lite\nstacked_bar_chart = {\n    \"data\": {\n        \"values\": outcomes_count.to_dict(orient='records')\n    },\n    \"mark\": \"bar\",\n    \"encoding\": {\n        \"x\": {\"field\": \"MEMBER_DOCUMENTATION\", \"type\": \"nominal\", \"axis\": {\"labelAngle\": -45}},\n        \"y\": {\"field\": \"Count\", \"type\": \"quantitative\"},\n        \"color\": {\"field\": \"LIABLE_FOR_DISPUTE\", \"type\": \"nominal\", \"scale\": {\"scheme\": \"category10\"}}\n    },\n    \"title\": \"Proportion of Outcomes Based on Member Documentation\"\n}\n# Streamlit application\nst.title(\"2: Documentation Impact on Chargeback Outcomes\")\n# Display the stacked bar chart\nst.vega_lite_chart(stacked_bar_chart,use_container_width=True, theme=\"streamlit\")",
   "execution_count": null
  },
  {
   "cell_type": "code",
   "id": "043dfcb2-0ea1-4616-8115-593ce088a3de",
   "metadata": {
    "language": "sql",
    "name": "cell37"
   },
   "outputs": [],
   "source": "CALL dispute_binary2!SHOW_EVALUATION_METRICS();\nCALL dispute_binary2!SHOW_GLOBAL_EVALUATION_METRICS();\nCALL dispute_binary2!SHOW_CONFUSION_MATRIX();\nCALL dispute_binary2!SHOW_FEATURE_IMPORTANCE();",
   "execution_count": null
  },
  {
   "cell_type": "code",
   "id": "6b59500d-6935-4681-8a1b-3750f50bbf05",
   "metadata": {
    "language": "sql",
    "name": "prediction_with_date",
    "collapsed": false
   },
   "outputs": [],
   "source": "CREATE OR REPLACE VIEW chargeback_processed3 AS\nSELECT\n    CHARGEBACK_DATE,\n    Merchant_Category,\n    MEMBER_DOCUMENTATION,\n    Chargeback_Reason,\n    CASE \n        WHEN Outcome = 'resolved in favor of member' THEN 'customer'\n        WHEN Outcome = 'resolved in favor of merchant' THEN 'merchant'\n        ELSE NULL\n    END AS outcome_label\nFROM chargebacks;",
   "execution_count": null
  },
  {
   "cell_type": "code",
   "id": "d7b55cee-4ec4-4ebd-94d9-b0c9077ffc80",
   "metadata": {
    "language": "sql",
    "name": "cell39"
   },
   "outputs": [],
   "source": "CREATE OR REPLACE SNOWFLAKE.ML.CLASSIFICATION dispute_binary3(\n    INPUT_DATA => SYSTEM$REFERENCE('view', 'CHARGEBACK_PROCESSED3'),\n    TARGET_COLNAME => 'outcome_label'\n);",
   "execution_count": null
  },
  {
   "cell_type": "code",
   "id": "566e8991-ff72-491b-8a62-2fbcf1d01603",
   "metadata": {
    "language": "sql",
    "name": "cell40"
   },
   "outputs": [],
   "source": "create or replace view chargeback_predicted3 as \nSELECT\n    CHARGEBACK_DATE,\n    Merchant_Category,\n    MEMBER_DOCUMENTATION,\n    Chargeback_Reason\nFROM chargeback_prediction;",
   "execution_count": null
  },
  {
   "cell_type": "code",
   "id": "4e30a155-905f-48c2-9a5d-73bc353b125f",
   "metadata": {
    "language": "sql",
    "name": "cell29"
   },
   "outputs": [],
   "source": "create or replace table chargeback_predicted_data3 as SELECT *, dispute_binary2!PREDICT(INPUT_DATA => {*}) as predictions from chargeback_predicted3;",
   "execution_count": null
  },
  {
   "cell_type": "code",
   "id": "1fd93c79-80a7-4f04-8468-423e088e5c60",
   "metadata": {
    "language": "sql",
    "name": "cell38"
   },
   "outputs": [],
   "source": "CREATE OR REPLACE VIEW CHARGEBACK_PREDICTED_OUTCOME3 AS\nSELECT \nCHARGEBACK_DATE,\nMERCHANT_CATEGORY,\nMEMBER_DOCUMENTATION,\nCHARGEBACK_REASON,\n    predictions:class AS LIABLE_FOR_DISPUTE,\n    ROUND(predictions['probability']['customer'],4) AS customer_probability,\n    ROUND(predictions['probability']['merchant'],4) AS merchant_probability\nFROM CHARGEBACK_PREDICTED_DATA3",
   "execution_count": null
  },
  {
   "cell_type": "code",
   "id": "4230e92f-3027-49a6-83fb-cc6ce5397f44",
   "metadata": {
    "language": "sql",
    "name": "cell41"
   },
   "outputs": [],
   "source": "SELECT * FROM CHARGEBACK_PREDICTED_OUTCOME3;",
   "execution_count": null
  },
  {
   "cell_type": "code",
   "id": "68260a71-1479-4efd-ae91-81546ab14479",
   "metadata": {
    "language": "sql",
    "name": "cell42"
   },
   "outputs": [],
   "source": "CALL dispute_binary3!SHOW_FEATURE_IMPORTANCE();",
   "execution_count": null
  },
  {
   "cell_type": "code",
   "id": "99590607-af5c-4aae-8431-ded4f302ac8c",
   "metadata": {
    "language": "sql",
    "name": "DISPUTE_DATA"
   },
   "outputs": [],
   "source": "CREATE OR REPLACE VIEW DISPUTE_PROCESSED AS\nSELECT\n    DISPUTE_ID,\n    DISPUTE_TYPE,\n    CUSTOMER_DOCUMENTATION, \n    CASE \n        WHEN Outcome = 'resolved in favor of customer' THEN 'merchant'\n        WHEN Outcome = 'resolved in favor of merchant' THEN 'customer'\n        ELSE NULL\n    END AS liable_for_dispute\nFROM DISPUTE_DATA;",
   "execution_count": null
  },
  {
   "cell_type": "code",
   "id": "4daf5e7a-9b06-4544-887d-e759b19e430c",
   "metadata": {
    "language": "sql",
    "name": "cell47"
   },
   "outputs": [],
   "source": "SELECT * FROM DISPUTE_PROCESSED;",
   "execution_count": null
  },
  {
   "cell_type": "code",
   "id": "53b7fa7e-0b36-4075-8634-002c0c526dda",
   "metadata": {
    "language": "sql",
    "name": "cell45"
   },
   "outputs": [],
   "source": "CREATE OR REPLACE SNOWFLAKE.ML.CLASSIFICATION dispute_binary4(\n    INPUT_DATA => SYSTEM$REFERENCE('view', 'DISPUTE_PROCESSED'),\n    TARGET_COLNAME => 'liable_for_dispute'\n);",
   "execution_count": null
  },
  {
   "cell_type": "code",
   "id": "784b199f-c990-41ff-a9df-b073f0ffb099",
   "metadata": {
    "language": "sql",
    "name": "cell46"
   },
   "outputs": [],
   "source": "CALL dispute_binary4!SHOW_FEATURE_IMPORTANCE();",
   "execution_count": null
  },
  {
   "cell_type": "code",
   "id": "2a7d8105-ab7b-4372-891c-b3e103fa9aea",
   "metadata": {
    "language": "sql",
    "name": "cell43"
   },
   "outputs": [],
   "source": "use role sysadmin;\ncreate or replace view DISPUTE_TO_PREDICT as \nSELECT\n    DISPUTE_ID,\n    DISPUTE_TYPE,\n    CUSTOMER_DOCUMENTATION\nFROM DISPUTE_PREDICTION;",
   "execution_count": null
  },
  {
   "cell_type": "code",
   "id": "fc5f53db-eed1-4d58-993d-f232baf58958",
   "metadata": {
    "language": "sql",
    "name": "cell54"
   },
   "outputs": [],
   "source": "SELECT * FROM DISPUTE_TO_PREDICT;",
   "execution_count": null
  },
  {
   "cell_type": "code",
   "id": "52998152-ebd1-4132-a72e-74cc2606e2e9",
   "metadata": {
    "language": "sql",
    "name": "cell44"
   },
   "outputs": [],
   "source": "create or replace table DISPUTE_PREDICTED_DATA as SELECT *, dispute_binary2!PREDICT(INPUT_DATA => {*}) as predictions from DISPUTE_TO_PREDICT;",
   "execution_count": null
  },
  {
   "cell_type": "code",
   "id": "77330e8f-ab9d-4de8-b646-24c7a6014ec8",
   "metadata": {
    "language": "sql",
    "name": "cell48"
   },
   "outputs": [],
   "source": "CREATE OR REPLACE VIEW DISPUTE_OUTCOME AS\nSELECT \n    D1.DISPUTE_ID,\n    D2.CHARGEBACK_DATE,\n    D1.DISPUTE_TYPE,\n    D2.PRODUCT_TYPE,\n    D1.CUSTOMER_DOCUMENTATION,\n    D2.CUSTOMER_STATEMENT,\n    predictions:class AS LIABLE_FOR_DISPUTE,\n    ROUND(predictions['probability']['customer'],4) AS customer_probability,\n    ROUND(predictions['probability']['merchant'],4) AS merchant_probability,\n    D2.STATUS\nFROM DISPUTE_PREDICTED_DATA D1\nJOIN DISPUTE_PREDICTION D2\nON D1.DISPUTE_ID=D2.DISPUTE_ID;",
   "execution_count": null
  },
  {
   "cell_type": "code",
   "id": "56a3ff95-d63c-4cd2-b35a-f627c36c8212",
   "metadata": {
    "language": "sql",
    "name": "cell49"
   },
   "outputs": [],
   "source": "SELECT * FROM DISPUTE_OUTCOME",
   "execution_count": null
  },
  {
   "cell_type": "code",
   "id": "170c2f88-d3d9-42e7-8438-a1ced9b4ba31",
   "metadata": {
    "language": "python",
    "name": "cell51"
   },
   "outputs": [],
   "source": "my_df = cell49.to_pandas()\n\n# Chart the data\nst.subheader(\"STATUS OF DISPUTE FOR EACH PRODUCT_TYPE WITH AMOUNT ❄️\")\nst.bar_chart(my_df, x='PRODUCT_TYPE', y='CHARGEBACK_DATE', color='DISPUTE_TYPE')",
   "execution_count": null
  },
  {
   "cell_type": "code",
   "id": "27e437f5-c539-423b-ae25-07988e1d2f77",
   "metadata": {
    "language": "sql",
    "name": "cell50"
   },
   "outputs": [],
   "source": "CREATE OR REPLACE VIEW DISPUTE_SENTIMENT AS\nSELECT\n    *,\n    SNOWFLAKE.CORTEX.SENTIMENT(CUSTOMER_STATEMENT) AS SENTIMENT_RESULT\nFROM\n    DISPUTE_OUTCOME where STATUS='Rejected';",
   "execution_count": null
  },
  {
   "cell_type": "code",
   "id": "54072c12-b7b9-45af-993c-1f5104cbf97f",
   "metadata": {
    "language": "sql",
    "name": "cell52"
   },
   "outputs": [],
   "source": "select * from dispute_sentiment ;",
   "execution_count": null
  },
  {
   "cell_type": "code",
   "id": "178208b6-a887-464a-9c80-e7495e93247c",
   "metadata": {
    "language": "python",
    "name": "cell53"
   },
   "outputs": [],
   "source": "df= cell52.to_pandas()\nresults_df=pd.DataFrame(df)\nst.header(\"Need Summary?\")\nselected_indices = st.selectbox(\"What summary do you want?\", results_df.index)\n\nselected_ted= results_df.loc[selected_indices]\nst.text(\"Selected Customer Review:\")\nst.dataframe(selected_ted)\n\ntalk_content= session.table(\"dispute_sentiment\").select('CUSTOMER_STATEMENT').filter(col('DISPUTE_ID')==selected_ted.DISPUTE_ID).collect()\ntext_to_summarize=talk_content[0].CUSTOMER_STATEMENT\ntext_summarise= Summarize(text_to_summarize)\n\nst.title(\"Summary\")\nst.markdown(text_summarise)",
   "execution_count": null
  }
 ]
}