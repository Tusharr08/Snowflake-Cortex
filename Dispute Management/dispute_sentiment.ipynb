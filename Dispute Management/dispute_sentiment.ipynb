{
 "metadata": {
  "kernelspec": {
   "display_name": "Streamlit Notebook",
   "name": "streamlit"
  }
 },
 "nbformat_minor": 5,
 "nbformat": 4,
 "cells": [
  {
   "cell_type": "code",
   "id": "3775908f-ca36-4846-8f38-5adca39217f2",
   "metadata": {
    "language": "python",
    "name": "cell1",
    "collapsed": false
   },
   "source": "# Import python packages\nimport pandas as pd\nimport numpy as np\nimport streamlit as st\nimport altair as alt\nfrom snowflake.cortex import Summarize\nfrom snowflake.snowpark.functions import col\n\n# We can also use Snowpark for our analyses!\nfrom snowflake.snowpark.context import get_active_session\nsession = get_active_session()\n",
   "execution_count": null,
   "outputs": []
  },
  {
   "cell_type": "code",
   "id": "8d50cbf4-0c8d-4950-86cb-114990437ac9",
   "metadata": {
    "language": "sql",
    "name": "cell2",
    "collapsed": false
   },
   "source": "-- Welcome to Snowflake Notebooks!\n-- Try out a SQL cell to generate some data.\nSELECT * FROM DISPUTE_OUTCOME;",
   "execution_count": null,
   "outputs": []
  },
  {
   "cell_type": "code",
   "id": "2c91f201-89fd-496a-8be1-6ab4d424f2c5",
   "metadata": {
    "language": "sql",
    "name": "cell4"
   },
   "outputs": [],
   "source": "CREATE OR REPLACE VIEW DISPUTE_SENTIMENT AS\nSELECT\n    *,\n    SNOWFLAKE.CORTEX.SENTIMENT(CUSTOMER_STATEMENT) AS SENTIMENT_RESULT\nFROM\n    DISPUTE_OUTCOME\nWHERE STATUS='Rejected';\n",
   "execution_count": null
  },
  {
   "cell_type": "code",
   "id": "7bf5b91c-c80b-4de1-a1d9-38cf689b9873",
   "metadata": {
    "language": "sql",
    "name": "cell5",
    "collapsed": false
   },
   "outputs": [],
   "source": "select * from dispute_sentiment ;",
   "execution_count": null
  }
 ]
}